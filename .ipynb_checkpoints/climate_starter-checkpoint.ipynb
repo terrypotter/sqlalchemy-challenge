{
 "cells": [
  {
   "cell_type": "code",
   "execution_count": 4,
   "metadata": {},
   "outputs": [],
   "source": [
    "%matplotlib inline\n",
    "from matplotlib import style\n",
    "style.use('fivethirtyeight')\n",
    "import matplotlib.pyplot as plt"
   ]
  },
  {
   "cell_type": "code",
   "execution_count": 5,
   "metadata": {},
   "outputs": [],
   "source": [
    "import numpy as np\n",
    "import pandas as pd"
   ]
  },
  {
   "cell_type": "code",
   "execution_count": 6,
   "metadata": {},
   "outputs": [],
   "source": [
    "import datetime as dt\n",
    "from scipy import stats"
   ]
  },
  {
   "cell_type": "markdown",
   "metadata": {},
   "source": [
    "# Reflect Tables into SQLAlchemy ORM"
   ]
  },
  {
   "cell_type": "code",
   "execution_count": 7,
   "metadata": {},
   "outputs": [],
   "source": [
    "# Python SQL toolkit and Object Relational Mapper\n",
    "import sqlalchemy\n",
    "from sqlalchemy.ext.automap import automap_base\n",
    "from sqlalchemy.orm import Session\n",
    "from sqlalchemy import create_engine, func, inspect\n",
    "from sqlalchemy import join, outerjoin, MetaData\n",
    "from sqlalchemy import Table, Column, Integer, String, Float"
   ]
  },
  {
   "cell_type": "code",
   "execution_count": 8,
   "metadata": {},
   "outputs": [
    {
     "data": {
      "text/plain": [
       "['measurement', 'station']"
      ]
     },
     "execution_count": 8,
     "metadata": {},
     "output_type": "execute_result"
    }
   ],
   "source": [
    "# Connect to database\n",
    "engine = create_engine(\"sqlite:///Resources/hawaii.sqlite\")\n",
    "conn = engine.connect()\n",
    "meta = MetaData()\n",
    "# Create an inspector and connect it to the engine\n",
    "inspector = inspect(engine)\n",
    "# dir(inspector)\n",
    "# View table names\n",
    "tables = inspector.get_table_names()\n",
    "tables"
   ]
  },
  {
   "cell_type": "code",
   "execution_count": 9,
   "metadata": {},
   "outputs": [],
   "source": [
    "# reflect an existing database into a new model\n",
    "Base = automap_base()\n",
    "Base.prepare(engine, reflect=True)\n",
    "# reflect the tables\n",
    "tables = Base.classes.keys()"
   ]
  },
  {
   "cell_type": "code",
   "execution_count": 10,
   "metadata": {},
   "outputs": [
    {
     "data": {
      "text/plain": [
       "['measurement', 'station']"
      ]
     },
     "execution_count": 10,
     "metadata": {},
     "output_type": "execute_result"
    }
   ],
   "source": [
    "# We can view all of the classes that automap found\n",
    "tables"
   ]
  },
  {
   "cell_type": "code",
   "execution_count": 11,
   "metadata": {},
   "outputs": [],
   "source": [
    "# Save references to each table\n",
    "Measurement = Base.classes['measurement']\n",
    "Station = Base.classes['station']\n",
    "# dir(Station)\n",
    "# dir(Measurement)"
   ]
  },
  {
   "cell_type": "code",
   "execution_count": 12,
   "metadata": {},
   "outputs": [
    {
     "data": {
      "text/plain": [
       "('USC00519397', '2010-01-01', 0.08, 65.0)"
      ]
     },
     "execution_count": 12,
     "metadata": {},
     "output_type": "execute_result"
    }
   ],
   "source": [
    "# Create our session (link) from Python to the DB\n",
    "session = Session(engine)\n",
    "session.query(Measurement.station, Measurement.date, Measurement.prcp, Measurement.tobs).first()"
   ]
  },
  {
   "cell_type": "code",
   "execution_count": 13,
   "metadata": {},
   "outputs": [
    {
     "data": {
      "text/plain": [
       "[('USC00519397', 'WAIKIKI 717.2, HI US'),\n",
       " ('USC00513117', 'KANEOHE 838.1, HI US'),\n",
       " ('USC00514830', 'KUALOA RANCH HEADQUARTERS 886.9, HI US'),\n",
       " ('USC00517948', 'PEARL CITY, HI US'),\n",
       " ('USC00518838', 'UPPER WAHIAWA 874.3, HI US'),\n",
       " ('USC00519523', 'WAIMANALO EXPERIMENTAL FARM, HI US'),\n",
       " ('USC00519281', 'WAIHEE 837.5, HI US'),\n",
       " ('USC00511918', 'HONOLULU OBSERVATORY 702.2, HI US'),\n",
       " ('USC00516128', 'MANOA LYON ARBO 785.2, HI US')]"
      ]
     },
     "execution_count": 13,
     "metadata": {},
     "output_type": "execute_result"
    }
   ],
   "source": [
    "session.query(Station.station, Station.name).all()"
   ]
  },
  {
   "cell_type": "markdown",
   "metadata": {},
   "source": [
    "# Exploratory Climate Analysis"
   ]
  },
  {
   "cell_type": "code",
   "execution_count": 14,
   "metadata": {},
   "outputs": [
    {
     "data": {
      "image/png": "[encoded data removed]",
      "text/plain": [
       "<Figure size 432x288 with 1 Axes>"
      ]
     },
     "metadata": {
      "needs_background": "light"
     },
     "output_type": "display_data"
    }
   ],
   "source": [
    "# Design a query to retrieve the last 12 months of precipitation data and plot the results\n",
    "# Find the end date for the data in Measurement\n",
    "\n",
    "end_date_1 = session.query(Measurement.date).order_by(Measurement.date.desc()).first()\n",
    "end_date_1\n",
    "\n",
    "# Calculate the date 1 year ago from the last data point in the database\n",
    "\n",
    "end_date = dt.date(2017, 8, 23)\n",
    "year_days = dt.timedelta(365)\n",
    "begin_date = end_date - year_days\n",
    "\n",
    "# Perform a query to retrieve the data and precipitation scores\n",
    "\n",
    "hawaii_data_year = session.query(Measurement.date, Measurement.prcp).filter(Measurement.date>=begin_date)\n",
    "\n",
    "# Save the query results as a Pandas DataFrame and set the index to the date column\n",
    "\n",
    "hawaii_data_year_df = pd.read_sql(hawaii_data_year.statement, conn)\n",
    "\n",
    "hawaii_data_year_df = hawaii_data_year_df.set_index('date')\n",
    "\n",
    "# Sort the dataframe by date\n",
    "\n",
    "hawaii_data_year_df = hawaii_data_year_df.sort_values(by=\"date\")\n",
    "\n",
    "hawaii_data_year_df.head(100)\n",
    "\n",
    "# Use Pandas Plotting with Matplotlib to plot the data\n",
    "hawaii_data_year_df = hawaii_data_year_df.rename(columns = {'prcp':'precipitation'})\n",
    "hawaii_data_year_df.plot()\n",
    "plt.xlabel(\"Date\")\n",
    "plt.ylabel(\"Inches\")\n",
    "plt.xticks(rotation=90)\n",
    "plt.show()"
   ]
  },
  {
   "cell_type": "code",
   "execution_count": 15,
   "metadata": {},
   "outputs": [
    {
     "data": {
      "text/html": [
       "<div>\n",
       "<style scoped>\n",
       "    .dataframe tbody tr th:only-of-type {\n",
       "        vertical-align: middle;\n",
       "    }\n",
       "\n",
       "    .dataframe tbody tr th {\n",
       "        vertical-align: top;\n",
       "    }\n",
       "\n",
       "    .dataframe thead th {\n",
       "        text-align: right;\n",
       "    }\n",
       "</style>\n",
       "<table border=\"1\" class=\"dataframe\">\n",
       "  <thead>\n",
       "    <tr style=\"text-align: right;\">\n",
       "      <th></th>\n",
       "      <th>precipitation</th>\n",
       "    </tr>\n",
       "  </thead>\n",
       "  <tbody>\n",
       "    <tr>\n",
       "      <th>count</th>\n",
       "      <td>2021.000000</td>\n",
       "    </tr>\n",
       "    <tr>\n",
       "      <th>mean</th>\n",
       "      <td>0.177279</td>\n",
       "    </tr>\n",
       "    <tr>\n",
       "      <th>std</th>\n",
       "      <td>0.461190</td>\n",
       "    </tr>\n",
       "    <tr>\n",
       "      <th>min</th>\n",
       "      <td>0.000000</td>\n",
       "    </tr>\n",
       "    <tr>\n",
       "      <th>25%</th>\n",
       "      <td>0.000000</td>\n",
       "    </tr>\n",
       "    <tr>\n",
       "      <th>50%</th>\n",
       "      <td>0.020000</td>\n",
       "    </tr>\n",
       "    <tr>\n",
       "      <th>75%</th>\n",
       "      <td>0.130000</td>\n",
       "    </tr>\n",
       "    <tr>\n",
       "      <th>max</th>\n",
       "      <td>6.700000</td>\n",
       "    </tr>\n",
       "  </tbody>\n",
       "</table>\n",
       "</div>"
      ],
      "text/plain": [
       "       precipitation\n",
       "count    2021.000000\n",
       "mean        0.177279\n",
       "std         0.461190\n",
       "min         0.000000\n",
       "25%         0.000000\n",
       "50%         0.020000\n",
       "75%         0.130000\n",
       "max         6.700000"
      ]
     },
     "execution_count": 15,
     "metadata": {},
     "output_type": "execute_result"
    }
   ],
   "source": [
    "# Use Pandas to calcualte the summary statistics for the precipitation data\n",
    "hawaii_data_year_df.describe()"
   ]
  },
  {
   "cell_type": "code",
   "execution_count": 16,
   "metadata": {},
   "outputs": [
    {
     "name": "stdout",
     "output_type": "stream",
     "text": [
      "There are 9 stations in this dataset.\n"
     ]
    }
   ],
   "source": [
    "# Design a query to show how many stations are available in this dataset?\n",
    "\n",
    "stations_count = session.query(Measurement.station).group_by(Measurement.station).count()\n",
    "print(f\"There are {stations_count} stations in this dataset.\")"
   ]
  },
  {
   "cell_type": "code",
   "execution_count": 18,
   "metadata": {},
   "outputs": [
    {
     "name": "stdout",
     "output_type": "stream",
     "text": [
      "('USC00519281', 2772)\n",
      "('USC00519397', 2724)\n",
      "('USC00513117', 2709)\n",
      "('USC00519523', 2669)\n",
      "('USC00516128', 2612)\n",
      "('USC00514830', 2202)\n",
      "('USC00511918', 1979)\n",
      "('USC00517948', 1372)\n",
      "('USC00518838', 511)\n"
     ]
    }
   ],
   "source": [
    "# What are the most active stations? (i.e. what stations have the most rows)?\n",
    "\n",
    "most_active_stations = session.query(Measurement.station, func.count(Measurement.station))\\\n",
    "                      .group_by(Measurement.station).order_by(func.count(Measurement.station).desc())\n",
    "\n",
    "# List the stations and the counts in descending order.\n",
    "\n",
    "for row in most_active_stations:\n",
    "    print(row)"
   ]
  },
  {
   "cell_type": "code",
   "execution_count": 19,
   "metadata": {},
   "outputs": [
    {
     "name": "stdout",
     "output_type": "stream",
     "text": [
      "Station ID = USC00519281\n",
      "Low Temp = 54.0\n",
      "High Temp = 85.0\n",
      "Avg Temp = 71.66378066378067\n"
     ]
    }
   ],
   "source": [
    "# Using the station id from the previous query, calculate the lowest temperature recorded, \n",
    "# highest temperature recorded, and average temperature of the most active station?\n",
    "\n",
    "station_id = 'USC00519281' # most active station id from above\n",
    "\n",
    "low_temp = session.query(func.min(Measurement.tobs)).filter(Measurement.station==station_id).first()\n",
    "high_temp = session.query(func.max(Measurement.tobs)).filter(Measurement.station==station_id).first()\n",
    "avg_temp = session.query(func.avg(Measurement.tobs)).filter(Measurement.station==station_id).first()\n",
    "\n",
    "print(f\"Station ID = {station_id}\\n\\\n",
    "Low Temp = {low_temp[0]}\\n\\\n",
    "High Temp = {high_temp[0]}\\n\\\n",
    "Avg Temp = {avg_temp[0]}\")\n"
   ]
  },
  {
   "cell_type": "code",
   "execution_count": 20,
   "metadata": {},
   "outputs": [
    {
     "data": {
      "image/png": "[encoded data removed]",
      "text/plain": [
       "<Figure size 432x288 with 1 Axes>"
      ]
     },
     "metadata": {
      "needs_background": "light"
     },
     "output_type": "display_data"
    }
   ],
   "source": [
    "# Choose the station with the highest number of temperature observations.\n",
    "# Query the last 12 months of temperature observation data for this station and plot the results as a histogram\n",
    "\n",
    "# Query to find end date for Station ID USC00519281\n",
    "enddate = session.query(Measurement.date).filter(Measurement.station==station_id)\\\n",
    "            .order_by(Measurement.date.desc()).first()\n",
    "\n",
    "# Set end_date equal to enddate from query above\n",
    "# Calculate the date 1 year ago from the last data point in the database\n",
    "\n",
    "end_date = dt.date(2017, 8, 18)\n",
    "year_days = dt.timedelta(365)\n",
    "begin_date = end_date - year_days\n",
    "\n",
    "# Query the last 12 months of tobs data for Station ID USC00519281 \n",
    "\n",
    "tobs = session.query(Measurement.station, Measurement.date, Measurement.tobs).filter(Measurement.station\\\n",
    "                    == station_id).filter(Measurement.date >= begin_date).order_by(Measurement.date).all()\n",
    "\n",
    "# Create DataFrame from query\n",
    "\n",
    "tobs_df = pd.DataFrame(tobs)\n",
    "\n",
    "# Histogram Plot\n",
    "plt.hist(tobs_df['tobs'],12)\n",
    "plt.xlabel(\"Temperature\")\n",
    "plt.ylabel(\"Frequency\")\n",
    "plt.legend([\"tobs\"], loc=\"best\")\n",
    "plt.show()\n",
    "\n"
   ]
  },
  {
   "cell_type": "code",
   "execution_count": 21,
   "metadata": {},
   "outputs": [
    {
     "name": "stdout",
     "output_type": "stream",
     "text": [
      "Monthly Average Temperatures\n",
      "June = 74.94411764705882\n",
      "December = 71.04152933421226\n"
     ]
    }
   ],
   "source": [
    "# Temperature Analysis I\n",
    "# June Average Temperature\n",
    "june_averages = session.query(func.avg(Measurement.tobs)).\\\n",
    "    filter(func.strftime(\"%m\", Measurement.date) == \"06\").first()\n",
    "\n",
    "\n",
    "# December Average Temperature\n",
    "dec_averages = session.query(func.avg(Measurement.tobs)).\\\n",
    "    filter(func.strftime(\"%m\", Measurement.date) == \"12\").first()\n",
    "\n",
    "\n",
    "#print(f\"There are {stations_count} stations in this dataset.\")\n",
    "\n",
    "print(f\"Monthly Average Temperatures\\n\\\n",
    "June = {june_averages[0]}\\n\\\n",
    "December = {dec_averages[0]}\")"
   ]
  },
  {
   "cell_type": "code",
   "execution_count": 22,
   "metadata": {},
   "outputs": [
    {
     "data": {
      "text/plain": [
       "Ttest_indResult(statistic=array([31.35503692]), pvalue=array([4.19352984e-187]))"
      ]
     },
     "execution_count": 22,
     "metadata": {},
     "output_type": "execute_result"
    }
   ],
   "source": [
    "# Unpaired T test (because we have two independent samples.)\n",
    "\n",
    "# June has 1700 rows while December has 1517 rows.  Limit June rows to 1517.\n",
    "june_temps = session.query(Measurement.tobs).filter(func.strftime(\"%m\", Measurement.date) == \"06\").all()\n",
    "june_temps\n",
    "\n",
    "dec_temps = session.query(Measurement.tobs).filter(func.strftime(\"%m\", Measurement.date) == \"12\").all()\n",
    "dec_temps\n",
    "\n",
    "t_test_up = stats.ttest_ind(june_temps,dec_temps, equal_var = False)\n",
    "t_test_up"
   ]
  },
  {
   "cell_type": "markdown",
   "metadata": {},
   "source": [
    "## Bonus Challenge Assignment"
   ]
  },
  {
   "cell_type": "code",
   "execution_count": 23,
   "metadata": {},
   "outputs": [
    {
     "name": "stdout",
     "output_type": "stream",
     "text": [
      "[(62.0, 69.57142857142857, 74.0)]\n"
     ]
    }
   ],
   "source": [
    "# Temperature Analysis II\n",
    "# This function called `calc_temps` will accept start date and end date in the format '%Y-%m-%d' \n",
    "# and return the minimum, average, and maximum temperatures for that range of dates\n",
    "def calc_temps(start_date, end_date):\n",
    "    \"\"\"TMIN, TAVG, and TMAX for a list of dates.\n",
    "    \n",
    "    Args:\n",
    "        start_date (string): A date string in the format %Y-%m-%d\n",
    "        end_date (string): A date string in the format %Y-%m-%d\n",
    "        \n",
    "    Returns:\n",
    "        TMIN, TAVE, and TMAX\n",
    "    \"\"\"\n",
    "    \n",
    "    return session.query(func.min(Measurement.tobs), func.avg(Measurement.tobs), func.max(Measurement.tobs)).\\\n",
    "        filter(Measurement.date >= start_date).filter(Measurement.date <= end_date).all()\n",
    "\n",
    "# function usage example\n",
    "print(calc_temps('2012-02-28', '2012-03-05'))"
   ]
  },
  {
   "cell_type": "code",
   "execution_count": 24,
   "metadata": {},
   "outputs": [
    {
     "name": "stdout",
     "output_type": "stream",
     "text": [
      "[(68.0, 76.22535211267606, 83.0)]\n"
     ]
    }
   ],
   "source": [
    "# Use your previous function `calc_temps` to calculate the tmin, tavg, and tmax \n",
    "# for your trip using the previous year's data for those same dates.\n",
    "\n",
    "# function usage example\n",
    "print(calc_temps('2014-08-10', '2014-08-19'))"
   ]
  },
  {
   "cell_type": "code",
   "execution_count": 25,
   "metadata": {},
   "outputs": [
    {
     "data": {
      "image/png": "[encoded data removed]",
      "text/plain": [
       "<Figure size 432x288 with 1 Axes>"
      ]
     },
     "metadata": {
      "needs_background": "light"
     },
     "output_type": "display_data"
    }
   ],
   "source": [
    "# Plot the results from your previous query as a bar chart. \n",
    "# Use \"Trip Avg Temp\" as your Title\n",
    "# Use the average temperature for the y value\n",
    "# Use the peak-to-peak (tmax-tmin) value as the y error bar (yerr)\n",
    "\n",
    "# Create lists for the plot\n",
    "x_pos = 0\n",
    "tavg = 76.23\n",
    "tmin = 68.0\n",
    "tmax = 83.0\n",
    "error = tmax-tmin\n",
    "\n",
    "# Build the plot\n",
    "fig, ax = plt.subplots()\n",
    "ax.bar(x_pos, tavg, yerr=error, align='center', alpha=0.2, ecolor='black', capsize=10)\n",
    "ax.set_ylabel('Temp (F)')\n",
    "ax.set_title('Trip Avg Temp')\n",
    "\n",
    "labels = [item.get_text() for item in ax.get_xticklabels()]\n",
    "empty_string_labels = ['']*len(labels)\n",
    "ax.set_xticklabels(empty_string_labels)\n",
    "plt.tight_layout()\n",
    "plt.show()\n"
   ]
  },
  {
   "cell_type": "code",
   "execution_count": 47,
   "metadata": {},
   "outputs": [
    {
     "data": {
      "text/plain": [
       "[('USC00516128',\n",
       "  0.41,\n",
       "  'MANOA LYON ARBO 785.2, HI US',\n",
       "  21.3331,\n",
       "  -157.8025,\n",
       "  152.4,\n",
       "  1.1500000000000001),\n",
       " ('USC00513117', 0.06, 'KANEOHE 838.1, HI US', 21.4234, -157.8015, 14.6, 0.53),\n",
       " ('USC00519281',\n",
       "  0.03,\n",
       "  'WAIHEE 837.5, HI US',\n",
       "  21.45167,\n",
       "  -157.84888999999998,\n",
       "  32.9,\n",
       "  0.49),\n",
       " ('USC00519523',\n",
       "  None,\n",
       "  'WAIMANALO EXPERIMENTAL FARM, HI US',\n",
       "  21.33556,\n",
       "  -157.71139,\n",
       "  19.5,\n",
       "  0.48000000000000004),\n",
       " ('USC00514830',\n",
       "  None,\n",
       "  'KUALOA RANCH HEADQUARTERS 886.9, HI US',\n",
       "  21.5213,\n",
       "  -157.8374,\n",
       "  7.0,\n",
       "  0.11),\n",
       " ('USC00519397', 0.0, 'WAIKIKI 717.2, HI US', 21.2716, -157.8168, 3.0, 0.06),\n",
       " ('USC00517948', None, 'PEARL CITY, HI US', 21.3934, -157.9751, 11.9, 0.02),\n",
       " ('USC00511918',\n",
       "  0.01,\n",
       "  'HONOLULU OBSERVATORY 702.2, HI US',\n",
       "  21.3152,\n",
       "  -157.9992,\n",
       "  0.9,\n",
       "  0.01)]"
      ]
     },
     "execution_count": 47,
     "metadata": {},
     "output_type": "execute_result"
    }
   ],
   "source": [
    "# Calculate the total amount of rainfall per weather station for your trip dates using the previous year's matching dates.\n",
    "# Sort this in descending order by precipitation amount and list the station, name, latitude, longitude, and elevation\n",
    "# previous year dates: '2014-08-10', '2014-08-19'\n",
    "\n",
    "start_date = dt.date(2014, 8, 10)\n",
    "end_date = dt.date(2014, 8, 19)\n",
    "\n",
    "# Join Measurement and Station\n",
    "sel = [Measurement.station, Measurement.prcp, Station.name, Station.latitude\\\n",
    "       , Station.longitude, Station.elevation]\n",
    "comb_tables = session.query(*sel, func.sum(Measurement.prcp)).filter(Measurement.station == Station.station\\\n",
    "                                         , Measurement.date >= start_date, Measurement.date <= end_date)\\\n",
    "                                        .group_by(Measurement.station).order_by(func.sum(Measurement.prcp).desc()).all()\n",
    "comb_tables\n"
   ]
  },
  {
   "cell_type": "code",
   "execution_count": null,
   "metadata": {},
   "outputs": [],
   "source": []
  },
  {
   "cell_type": "code",
   "execution_count": 27,
   "metadata": {},
   "outputs": [
    {
     "data": {
      "text/plain": [
       "[(62.0, 69.15384615384616, 77.0)]"
      ]
     },
     "execution_count": 27,
     "metadata": {},
     "output_type": "execute_result"
    }
   ],
   "source": [
    "# Create a query that will calculate the daily normals \n",
    "# (i.e. the averages for tmin, tmax, and tavg for all historic data matching a specific month and day)\n",
    "\n",
    "def daily_normals(date):\n",
    "    \"\"\"Daily Normals.\n",
    "    \n",
    "    Args:\n",
    "        date (str): A date string in the format '%m-%d'\n",
    "        \n",
    "    Returns:\n",
    "        A list of tuples containing the daily normals, tmin, tavg, and tmax\n",
    "    \n",
    "    \"\"\"\n",
    "    \n",
    "    sel = [func.min(Measurement.tobs), func.avg(Measurement.tobs), func.max(Measurement.tobs)]\n",
    "    return session.query(*sel).filter(func.strftime(\"%m-%d\", Measurement.date) == date).all()\n",
    "    \n",
    "daily_normals(\"01-01\")"
   ]
  },
  {
   "cell_type": "code",
   "execution_count": 58,
   "metadata": {},
   "outputs": [
    {
     "data": {
      "text/plain": [
       "[(65.0, 76.42, 83.0),\n",
       " [(67.0, 75.98113207547169, 82.0)],\n",
       " [(67.0, 76.52727272727273, 83.0)],\n",
       " [(71.0, 76.98245614035088, 84.0)],\n",
       " [(71.0, 76.77777777777777, 82.0)],\n",
       " [(69.0, 76.47169811320755, 83.0)],\n",
       " [(69.0, 76.08, 83.0)],\n",
       " [(69.0, 76.125, 83.0)],\n",
       " [(70.0, 76.92307692307692, 84.0)],\n",
       " [(69.0, 75.94642857142857, 85.0)]]"
      ]
     },
     "execution_count": 58,
     "metadata": {},
     "output_type": "execute_result"
    }
   ],
   "source": [
    "# calculate the daily normals for your trip\n",
    "day_norms = daily_normals(\"08-10\")\n",
    "day_norms.append(daily_normals(\"08-11\"))\n",
    "day_norms.append(daily_normals(\"08-12\"))\n",
    "day_norms.append(daily_normals(\"08-13\"))\n",
    "day_norms.append(daily_normals(\"08-14\"))\n",
    "day_norms.append(daily_normals(\"08-15\"))\n",
    "day_norms.append(daily_normals(\"08-16\"))\n",
    "day_norms.append(daily_normals(\"08-17\"))\n",
    "day_norms.append(daily_normals(\"08-18\"))\n",
    "day_norms.append(daily_normals(\"08-19\"))\n",
    "\n",
    "# push each tuple of calculations into a list called `normals`\n",
    "\n",
    "list_day_norms = list(day_norms)\n",
    "\n",
    "list_day_norms\n",
    "\n",
    "# Set the start and end date of the trip\n",
    "\n",
    "# Use the start and end date to create a range of dates\n",
    "\n",
    "# Stip off the year and save a list of %m-%d strings\n",
    "\n",
    "# Loop through the list of %m-%d strings and calculate the normals for each date\n"
   ]
  },
  {
   "cell_type": "code",
   "execution_count": null,
   "metadata": {},
   "outputs": [],
   "source": [
    "# Load the previous query results into a Pandas DataFrame and add the `trip_dates` range as the `date` index\n"
   ]
  },
  {
   "cell_type": "code",
   "execution_count": null,
   "metadata": {},
   "outputs": [],
   "source": [
    "# Plot the daily normals as an area plot with `stacked=False`\n"
   ]
  }
 ],
 "metadata": {
  "kernel_info": {
   "name": "python3"
  },
  "kernelspec": {
   "display_name": "Python 3",
   "language": "python",
   "name": "python3"
  },
  "language_info": {
   "codemirror_mode": {
    "name": "ipython",
    "version": 3
   },
   "file_extension": ".py",
   "mimetype": "text/x-python",
   "name": "python",
   "nbconvert_exporter": "python",
   "pygments_lexer": "ipython3",
   "version": "3.7.4"
  },
  "nteract": {
   "version": "0.12.3"
  },
  "varInspector": {
   "cols": {
    "lenName": 16,
    "lenType": 16,
    "lenVar": 40
   },
   "kernels_config": {
    "python": {
     "delete_cmd_postfix": "",
     "delete_cmd_prefix": "del ",
     "library": "var_list.py",
     "varRefreshCmd": "print(var_dic_list())"
    },
    "r": {
     "delete_cmd_postfix": ") ",
     "delete_cmd_prefix": "rm(",
     "library": "var_list.r",
     "varRefreshCmd": "cat(var_dic_list()) "
    }
   },
   "types_to_exclude": [
    "module",
    "function",
    "builtin_function_or_method",
    "instance",
    "_Feature"
   ],
   "window_display": false
  }
 },
 "nbformat": 4,
 "nbformat_minor": 2
}
